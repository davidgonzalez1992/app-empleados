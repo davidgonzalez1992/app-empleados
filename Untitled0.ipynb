{
  "nbformat": 4,
  "nbformat_minor": 0,
  "metadata": {
    "colab": {
      "provenance": [],
      "authorship_tag": "ABX9TyMdYMWQDKlV1Y5+uzdD4B3v",
      "include_colab_link": true
    },
    "kernelspec": {
      "name": "python3",
      "display_name": "Python 3"
    },
    "language_info": {
      "name": "python"
    }
  },
  "cells": [
    {
      "cell_type": "markdown",
      "metadata": {
        "id": "view-in-github",
        "colab_type": "text"
      },
      "source": [
        "<a href=\"https://colab.research.google.com/github/davidgonzalez1992/app-empleados/blob/master/Untitled0.ipynb\" target=\"_parent\"><img src=\"https://colab.research.google.com/assets/colab-badge.svg\" alt=\"Open In Colab\"/></a>"
      ]
    },
    {
      "cell_type": "code",
      "execution_count": 1,
      "metadata": {
        "id": "5QI2MrR6B2xn"
      },
      "outputs": [],
      "source": [
        "import requests\n",
        "from bs4 import BeautifulSoup"
      ]
    },
    {
      "cell_type": "code",
      "source": [
        "ruta = \"https://generaciontic.gov.co/estudiantes-8-11/programacion-en-python\""
      ],
      "metadata": {
        "id": "0gsg7EPKESZa"
      },
      "execution_count": 2,
      "outputs": []
    },
    {
      "cell_type": "code",
      "source": [
        "r = requests.get(ruta)"
      ],
      "metadata": {
        "id": "wXvlSJ_cFkFn"
      },
      "execution_count": 3,
      "outputs": []
    },
    {
      "cell_type": "code",
      "source": [
        "print(f\"Respuesta HTTP: {r.status_code}\")"
      ],
      "metadata": {
        "colab": {
          "base_uri": "https://localhost:8080/"
        },
        "id": "3bYI32qEFuXu",
        "outputId": "fa53ba98-2d8c-4790-9f81-69c947a07cab"
      },
      "execution_count": 4,
      "outputs": [
        {
          "output_type": "stream",
          "name": "stdout",
          "text": [
            "Respuesta HTTP: 200\n"
          ]
        }
      ]
    },
    {
      "cell_type": "code",
      "source": [
        "soup = BeautifulSoup(r.content, 'html.parser')"
      ],
      "metadata": {
        "id": "wX_PaHICGPTn"
      },
      "execution_count": 5,
      "outputs": []
    },
    {
      "cell_type": "code",
      "source": [
        "nombrecurso = soup.find_all(\"a\", class_=\"elementor-accordion-title\")"
      ],
      "metadata": {
        "id": "CL6amTVHCOkK"
      },
      "execution_count": 7,
      "outputs": []
    },
    {
      "cell_type": "code",
      "source": [
        "for curso in nombrecurso:\n",
        "  print(curso.text)"
      ],
      "metadata": {
        "colab": {
          "base_uri": "https://localhost:8080/"
        },
        "id": "V_SOrsSGG14Y",
        "outputId": "f8f93685-5c3c-463c-f9d3-24fe514f68ab"
      },
      "execution_count": 8,
      "outputs": [
        {
          "output_type": "stream",
          "name": "stdout",
          "text": [
            "UNIDAD 1.   Introducción a Python\n",
            "UNIDAD  2. Programación Procedimental\n",
            "UNIDAD 3. Estructuras de Datos    Temas\n",
            "UNIDAD  4.  Desarrollo de Proyectos\n"
          ]
        }
      ]
    },
    {
      "cell_type": "code",
      "source": [
        "items = soup.find_all(\"div\", class_=\"elementor-accordion-item\")"
      ],
      "metadata": {
        "id": "hnJ67qTuJ1eO"
      },
      "execution_count": 9,
      "outputs": []
    },
    {
      "cell_type": "code",
      "source": [
        "for item in items:\n",
        "  print(item.text)"
      ],
      "metadata": {
        "colab": {
          "base_uri": "https://localhost:8080/"
        },
        "id": "6ONYkZwnKIdl",
        "outputId": "24b3107c-faff-4224-b28d-efb0784e7d4c"
      },
      "execution_count": 10,
      "outputs": [
        {
          "output_type": "stream",
          "name": "stdout",
          "text": [
            "\n",
            "\n",
            "\n",
            "\n",
            "\n",
            "\n",
            "UNIDAD 1.   Introducción a Python\n",
            "\n",
            "Sintaxis de variables operadores y estructuras de control en Python.Desarrollo de algoritmos en Python\n",
            "\n",
            "\n",
            "\n",
            "\n",
            "\n",
            "\n",
            "\n",
            "UNIDAD  2. Programación Procedimental\n",
            "\n",
            "Funciones y procedimientos en PythonModularidad y reutilización de códigoClases y objetos en Python.Herencia y Polimorfismo\n",
            "\n",
            "\n",
            "\n",
            "\n",
            "\n",
            "\n",
            "\n",
            "UNIDAD 3. Estructuras de Datos    Temas\n",
            "\n",
            "Listas y tuplas.Diccionarios y conjuntos.Algoritmos de búsqueda y ordenación.Recursividad.\n",
            "\n",
            "\n",
            "\n",
            "\n",
            "\n",
            "\n",
            "\n",
            "UNIDAD  4.  Desarrollo de Proyectos\n",
            "\n",
            "Introducción a bibliotecas y módulos.Ejemplos de bibliotecas populares en Python.Frameworks para desarrollo de interfaces en WebConexión a Bases de Datos\n",
            "\n"
          ]
        }
      ]
    },
    {
      "cell_type": "markdown",
      "source": [],
      "metadata": {
        "id": "g_Ox56RQCOAM"
      }
    }
  ]
}